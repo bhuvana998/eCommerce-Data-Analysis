{
  "cells": [
    {
      "cell_type": "code",
      "source": [
        "import pandas as pd\n",
        "from sklearn.metrics.pairwise import cosine_similarity\n",
        "from sklearn.preprocessing import MinMaxScaler\n",
        "\n",
        "# Load datasets\n",
        "customers = pd.read_csv('/content/Customers.csv')\n",
        "products = pd.read_csv('/content/Products.csv')\n",
        "transactions = pd.read_csv('/content/Transactions.csv')\n",
        "\n",
        "# Merge datasets\n",
        "transactions = transactions.merge(customers, on='CustomerID', how='left')\n",
        "transactions = transactions.merge(products, on='ProductID', how='left')\n",
        "\n",
        "# Feature engineering: Aggregate customer-level data\n",
        "customer_features = transactions.groupby('CustomerID').agg(\n",
        "    TotalSpending=('TotalValue', 'sum'),\n",
        "    AvgTransactionValue=('TotalValue', 'mean'),\n",
        "    TotalTransactions=('TransactionID', 'count'),\n",
        "    AvgQuantity=('Quantity', 'mean'),\n",
        "    Region=('Region', 'first')  # Keep region for categorical encoding\n",
        ").reset_index()\n",
        "\n",
        "# Encode Region using one-hot encoding\n",
        "region_encoded = pd.get_dummies(customer_features['Region'], prefix='Region')\n",
        "customer_features = pd.concat([customer_features, region_encoded], axis=1)\n",
        "customer_features.drop('Region', axis=1, inplace=True)\n",
        "\n",
        "# Normalize numerical features\n",
        "scaler = MinMaxScaler()\n",
        "numerical_features = ['TotalSpending', 'AvgTransactionValue', 'TotalTransactions', 'AvgQuantity']\n",
        "customer_features[numerical_features] = scaler.fit_transform(customer_features[numerical_features])\n",
        "\n",
        "# Compute cosine similarity\n",
        "similarity_matrix = cosine_similarity(customer_features.drop(columns=['CustomerID']))\n",
        "\n",
        "# Create Lookalike.csv\n",
        "lookalikes = []\n",
        "for i, customer_id in enumerate(customer_features['CustomerID']):\n",
        "    # Get similarity scores for the current customer\n",
        "    sim_scores = similarity_matrix[i]\n",
        "    # Find top 3 most similar customers\n",
        "    top_indices = sim_scores.argsort()[-4:-1][::-1]  # Exclude self-similarity\n",
        "    for idx in top_indices:\n",
        "        lookalikes.append({\n",
        "            'CustomerID': customer_id,\n",
        "            'LookalikeID': customer_features.iloc[idx]['CustomerID'],\n",
        "            'SimilarityScore': sim_scores[idx]\n",
        "        })\n",
        "\n",
        "# Save results\n",
        "lookalike_df = pd.DataFrame(lookalikes)\n",
        "lookalike_df.to_csv('/content/Lookalike.csv', index=False)\n",
        "\n",
        "print(\"Lookalike model completed. Results saved to 'Lookalike.csv'.\")\n"
      ],
      "metadata": {
        "id": "Cgo0I-r8JLr5",
        "outputId": "14c499a9-1336-4311-a706-89d226dbaf24",
        "colab": {
          "base_uri": "https://localhost:8080/"
        }
      },
      "execution_count": 1,
      "outputs": [
        {
          "output_type": "stream",
          "name": "stdout",
          "text": [
            "Lookalike model completed. Results saved to 'Lookalike.csv'.\n"
          ]
        }
      ]
    },
    {
      "cell_type": "code",
      "source": [
        "# Feature engineering: Enhanced aggregation with product preferences\n",
        "product_preference = transactions.groupby(['CustomerID', 'Category']).size().unstack(fill_value=0)\n",
        "customer_features = transactions.groupby('CustomerID').agg(\n",
        "    TotalSpending=('TotalValue', 'sum'),\n",
        "    AvgTransactionValue=('TotalValue', 'mean'),\n",
        "    TotalTransactions=('TransactionID', 'count'),\n",
        "    AvgQuantity=('Quantity', 'mean'),\n",
        "    Region=('Region', 'first')  # Keep region for encoding\n",
        ").reset_index()\n",
        "\n",
        "# Merge product preferences with customer features\n",
        "customer_features = customer_features.merge(product_preference, on='CustomerID', how='left')\n",
        "\n",
        "# Encode Region using one-hot encoding\n",
        "region_encoded = pd.get_dummies(customer_features['Region'], prefix='Region')\n",
        "customer_features = pd.concat([customer_features, region_encoded], axis=1)\n",
        "customer_features.drop('Region', axis=1, inplace=True)\n",
        "\n",
        "# Apply weights to numerical features\n",
        "weights = {\n",
        "    'TotalSpending': 0.4,\n",
        "    'AvgTransactionValue': 0.3,\n",
        "    'TotalTransactions': 0.2,\n",
        "    'AvgQuantity': 0.1\n",
        "}\n",
        "for feature, weight in weights.items():\n",
        "    customer_features[feature] *= weight\n",
        "\n",
        "# Normalize all features\n",
        "numerical_features = customer_features.select_dtypes(include=['float64', 'int64']).columns\n",
        "scaler = MinMaxScaler()\n",
        "customer_features[numerical_features] = scaler.fit_transform(customer_features[numerical_features])\n",
        "\n",
        "# Compute cosine similarity\n",
        "similarity_matrix = cosine_similarity(customer_features.drop(columns=['CustomerID']))\n",
        "\n",
        "# Enhanced recommendation logic\n",
        "lookalikes = []\n",
        "for i, customer_id in enumerate(customer_features['CustomerID']):\n",
        "    # Get similarity scores for the current customer\n",
        "    sim_scores = similarity_matrix[i]\n",
        "    # Find top 3 most similar customers, excluding the customer itself\n",
        "    top_indices = sim_scores.argsort()[-4:-1][::-1]\n",
        "    for idx in top_indices:\n",
        "        lookalikes.append({\n",
        "            'CustomerID': customer_id,\n",
        "            'LookalikeID': customer_features.iloc[idx]['CustomerID'],\n",
        "            'SimilarityScore': sim_scores[idx]\n",
        "        })\n",
        "\n",
        "# Save the enhanced lookalike results\n",
        "lookalike_df = pd.DataFrame(lookalikes)\n",
        "lookalike_df.to_csv('Enhanced_Lookalike.csv', index=False)\n",
        "\n",
        "print(\"Enhanced Lookalike model completed. Results saved to 'Enhanced_Lookalike.csv'.\")\n"
      ],
      "metadata": {
        "id": "T1BtX-YRJoOM",
        "outputId": "fb57355f-b86e-4f7f-efa3-a81e0aba2617",
        "colab": {
          "base_uri": "https://localhost:8080/"
        }
      },
      "execution_count": 2,
      "outputs": [
        {
          "output_type": "stream",
          "name": "stdout",
          "text": [
            "Enhanced Lookalike model completed. Results saved to 'Enhanced_Lookalike.csv'.\n"
          ]
        }
      ]
    }
  ],
  "metadata": {
    "colab": {
      "name": "Welcome To Colab",
      "provenance": []
    },
    "kernelspec": {
      "display_name": "Python 3",
      "name": "python3"
    }
  },
  "nbformat": 4,
  "nbformat_minor": 0
}